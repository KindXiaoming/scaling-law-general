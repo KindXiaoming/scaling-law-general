{
 "cells": [
  {
   "cell_type": "code",
   "execution_count": 44,
   "id": "e8fc2f78",
   "metadata": {},
   "outputs": [],
   "source": [
    "import numpy as np\n",
    "import matplotlib.pyplot as plt\n",
    "from scipy import interpolate\n",
    "\n",
    "# numpy\n",
    "# torch for PDE\n",
    "\n",
    "\n",
    "n_grids = [5,10,15,20,25,30,35,40,45,50]\n",
    "errors = []\n",
    "\n",
    "for n_grid in n_grids:\n",
    "    \n",
    "    def g(X,Y):\n",
    "        return X**2+Y**2\n",
    "\n",
    "    x = np.linspace(-1,1,num=n_grid)\n",
    "    y = np.linspace(-1,1,num=n_grid)\n",
    "    X, Y = np.meshgrid(x, y)\n",
    "    z = g(X,Y)\n",
    "    f = interpolate.interp2d(x, y, z, kind='linear')\n",
    "    x_test = np.linspace(-1,1,num=2*n_grid-1)[1:-1:2]\n",
    "    y_test = np.linspace(-1,1,num=2*n_grid-1)[1:-1:2]\n",
    "    X_test, Y_test = np.meshgrid(x_test, y_test)\n",
    "\n",
    "    z_test_interp = f(x_test,y_test)\n",
    "    z_test_true = g(X_test, Y_test)\n",
    "    error = np.mean((z_test_interp-z_test_true)**2)\n",
    "    errors.append(error)\n",
    "    \n",
    "errors = np.array(errors)"
   ]
  },
  {
   "cell_type": "code",
   "execution_count": 45,
   "id": "17ec7bb3",
   "metadata": {},
   "outputs": [
    {
     "data": {
      "image/png": "[encoded data removed]",
      "text/plain": [
       "<Figure size 432x288 with 1 Axes>"
      ]
     },
     "metadata": {
      "needs_background": "light"
     },
     "output_type": "display_data"
    }
   ],
   "source": [
    "n_grids_eff = np.array(n_grids) - 1\n",
    "plt.plot(n_grids_eff, errors, marker=\"o\")\n",
    "plt.xscale('log')\n",
    "plt.yscale('log')"
   ]
  },
  {
   "cell_type": "code",
   "execution_count": 54,
   "id": "7d0d95b1",
   "metadata": {},
   "outputs": [
    {
     "data": {
      "text/plain": [
       "-4.000000000000004"
      ]
     },
     "execution_count": 54,
     "metadata": {},
     "output_type": "execute_result"
    }
   ],
   "source": [
    "start_id = 1\n",
    "end_id = -1\n",
    "slope = (np.log(errors[start_id])-np.log(errors[end_id]))/(np.log(n_grids_eff[start_id])-np.log(n_grids_eff[end_id]))\n",
    "slope"
   ]
  },
  {
   "cell_type": "code",
   "execution_count": null,
   "id": "0dba0908",
   "metadata": {},
   "outputs": [],
   "source": []
  }
 ],
 "metadata": {
  "kernelspec": {
   "display_name": "Python 3 (ipykernel)",
   "language": "python",
   "name": "python3"
  },
  "language_info": {
   "codemirror_mode": {
    "name": "ipython",
    "version": 3
   },
   "file_extension": ".py",
   "mimetype": "text/x-python",
   "name": "python",
   "nbconvert_exporter": "python",
   "pygments_lexer": "ipython3",
   "version": "3.9.7"
  }
 },
 "nbformat": 4,
 "nbformat_minor": 5
}
