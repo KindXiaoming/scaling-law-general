{
 "cells": [
  {
   "cell_type": "code",
   "execution_count": 1,
   "id": "436cb99f",
   "metadata": {},
   "outputs": [
    {
     "name": "stdout",
     "output_type": "stream",
     "text": [
      "n_grid=10\n",
      "Epoch: 0 | Loss: 0.0015309224482859933\n",
      "n_grid=15\n",
      "Epoch: 0 | Loss: 0.0002853628807018392\n",
      "n_grid=20\n",
      "Epoch: 0 | Loss: 8.704118250581474e-05\n",
      "n_grid=25\n",
      "Epoch: 0 | Loss: 3.480247735801745e-05\n",
      "n_grid=30\n",
      "Epoch: 0 | Loss: 1.650234302382433e-05\n",
      "n_grid=35\n",
      "Epoch: 0 | Loss: 8.797304875491942e-06\n",
      "n_grid=40\n",
      "Epoch: 0 | Loss: 5.107841162152308e-06\n",
      "n_grid=45\n",
      "Epoch: 0 | Loss: 3.1648494045368993e-06\n",
      "n_grid=50\n",
      "Epoch: 0 | Loss: 2.0638224230642125e-06\n",
      "n_grid=55\n",
      "Epoch: 0 | Loss: 1.4025306595232648e-06\n",
      "n_grid=60\n",
      "Epoch: 0 | Loss: 9.86097611762069e-07\n",
      "n_grid=65\n",
      "Epoch: 0 | Loss: 7.133560207537165e-07\n",
      "n_grid=70\n",
      "Epoch: 0 | Loss: 5.28711791496737e-07\n",
      "n_grid=75\n",
      "Epoch: 0 | Loss: 4.0012169103866637e-07\n",
      "n_grid=80\n",
      "Epoch: 0 | Loss: 3.083514501168364e-07\n",
      "n_grid=85\n",
      "Epoch: 0 | Loss: 2.4144449548024383e-07\n",
      "n_grid=90\n",
      "Epoch: 0 | Loss: 1.9173839841440505e-07\n",
      "n_grid=95\n",
      "Epoch: 0 | Loss: 1.541894331778641e-07\n",
      "n_grid=100\n",
      "Epoch: 0 | Loss: 1.2539794528842177e-07\n",
      "n_grid=105\n",
      "Epoch: 0 | Loss: 1.0302345208684536e-07\n",
      "n_grid=110\n",
      "Epoch: 0 | Loss: 8.542376212052077e-08\n",
      "n_grid=115\n",
      "Epoch: 0 | Loss: 7.142671255953741e-08\n",
      "n_grid=120\n",
      "Epoch: 0 | Loss: 6.018252059166412e-08\n",
      "n_grid=125\n",
      "Epoch: 0 | Loss: 5.106632180001951e-08\n",
      "n_grid=130\n",
      "Epoch: 0 | Loss: 4.361263751088724e-08\n",
      "n_grid=135\n",
      "Epoch: 0 | Loss: 3.747056074340758e-08\n",
      "n_grid=140\n",
      "Epoch: 0 | Loss: 3.237263182334359e-08\n",
      "n_grid=145\n",
      "Epoch: 0 | Loss: 2.8112910988358683e-08\n",
      "n_grid=150\n",
      "Epoch: 0 | Loss: 2.4531325190255492e-08\n"
     ]
    },
    {
     "name": "stderr",
     "output_type": "stream",
     "text": [
      "/Users/ziming/opt/anaconda3/lib/python3.9/site-packages/torch/functional.py:445: UserWarning: torch.meshgrid: in an upcoming release, it will be required to pass the indexing argument. (Triggered internally at  /Users/distiller/project/conda/conda-bld/pytorch_1639180852547/work/aten/src/ATen/native/TensorShape.cpp:2157.)\n",
      "  return _VF.meshgrid(tensors, **kwargs)  # type: ignore[attr-defined]\n"
     ]
    }
   ],
   "source": [
    "import numpy as np\n",
    "import matplotlib.pyplot as plt\n",
    "from scipy import interpolate\n",
    "import torch\n",
    "import torch.nn.functional as F\n",
    "\n",
    "# Adam, additivity\n",
    "\n",
    "torch.set_default_dtype(torch.float64)\n",
    "\n",
    "\n",
    "def f_(X):\n",
    "    return torch.sin(np.pi*X)\n",
    "    #return X**2\n",
    "\n",
    "def f(X,Y):\n",
    "    return f_(X)*f_(Y)\n",
    "\n",
    "\n",
    "n_grids = [10,15,20,25,30,35,40,45,50,55,60,65,70,75,80,85,90,95,100,105,110,115,120,125,130,135,140,145,150]\n",
    "#n_grids = [10,20]\n",
    "#n_grids = [5]\n",
    "\n",
    "errors = []\n",
    "errors_test = []\n",
    "\n",
    "ii = 0\n",
    "\n",
    "for n_grid in n_grids:\n",
    "    print(\"n_grid={}\".format(n_grid))\n",
    "    #n_grid = 400\n",
    "\n",
    "\n",
    "    x = torch.linspace(-1,1,steps=n_grid)\n",
    "    y = torch.linspace(-1,1,steps=n_grid)\n",
    "    x_test = torch.linspace(-1,1,steps=2*n_grid-1)[1:-1:2]\n",
    "    y_test = torch.linspace(-1,1,steps=2*n_grid-1)[1:-1:2]\n",
    "    X, Y = torch.meshgrid(x, y)\n",
    "\n",
    "    # full have shape (2, n_grid)\n",
    "    def add(full):\n",
    "        return full[0,:].unsqueeze(dim=0) * full[1,:].unsqueeze(dim=1)\n",
    "        \n",
    "\n",
    "    def add_loss(full, x, y):\n",
    "        f_numerical = add(full)\n",
    "        X, Y = torch.meshgrid(x[:],y[:])\n",
    "        f_true = f(X,Y)\n",
    "        return torch.mean((f_numerical-f_true)**2)\n",
    "\n",
    "    # initalize z as random parameters, note sequential training\n",
    "    #z = g(X,Y)\n",
    "    #if ii == 0:\n",
    "    if True:\n",
    "        z = torch.stack([f_(x), f_(y)])\n",
    "        #z = torch.normal(0,1,size=(2,n_grid))*0.001\n",
    "        z = torch.nn.Parameter(z, requires_grad=True)\n",
    "    else:\n",
    "        z = F.interpolate(z.unsqueeze(dim=0).unsqueeze(dim=0), size=(2,n_grid), mode='bilinear', align_corners=True)[0,0]\n",
    "        z = torch.nn.Parameter(z, requires_grad=True)\n",
    "        \n",
    "    ii = ii + 1\n",
    "    \n",
    "    # initialize adam (learning rate scaling lr~h**4), z as parameters\n",
    "    lr = 1e-2\n",
    "    opt = torch.optim.Adam({z}, lr=lr, eps=1e-8)\n",
    "    #opt = torch.optim.SGD({z}, lr=lr)\n",
    "    \n",
    "    # iterations here (learning rate decay)\n",
    "    epochs = 1#50000\n",
    "    switch_epoch = 5000\n",
    "    log = 100\n",
    "    best_loss = 1e20\n",
    "    losses = []\n",
    "    \n",
    "    for i in range(epochs):\n",
    "        if (i+1) % switch_epoch == 0:\n",
    "            for opt_param in opt.param_groups:\n",
    "                lr = lr * 0.5\n",
    "                opt_param['lr'] = lr\n",
    "        \n",
    "        def loss_closure():\n",
    "            opt.zero_grad()\n",
    "            loss_train = add_loss(z, x, y)\n",
    "            z_interp = F.interpolate(z.unsqueeze(dim=0).unsqueeze(dim=0), size=(2,2*n_grid-1), mode='bilinear', align_corners=True)[0,0]\n",
    "            z_test = z_interp[:,1:-1:2]\n",
    "            loss_test = add_loss(z_test, x_test, y_test)\n",
    "            loss = (loss_test*(n_grid-1)**2 + loss_train*(n_grid)**2)/((n_grid-1)**2+(n_grid)**2)\n",
    "            loss.backward()\n",
    "            return loss\n",
    "          # -------------------------------------------\n",
    "        loss = loss_closure()\n",
    "        opt.step(loss_closure)  # get loss, use to update wts\n",
    "        if loss < best_loss:\n",
    "            best_loss = loss\n",
    "            best_epoch = i\n",
    "            best_z = z.clone()\n",
    "        if i % log == 0:\n",
    "            print(\"Epoch: {}\".format(i) + \" | \" + \"Loss: {}\".format(loss.detach().numpy()))\n",
    "        losses.append(loss.detach().numpy())\n",
    "    \n",
    "    errors.append(best_loss.detach().numpy())\n",
    "    \n",
    "    torch.save(z, './mult_results_grid/z_n_{}'.format(n_grid))\n",
    "    torch.save(best_loss, './mult_results_grid/loss_n_{}'.format(n_grid))\n"
   ]
  },
  {
   "cell_type": "code",
   "execution_count": 2,
   "id": "e7d290bc",
   "metadata": {},
   "outputs": [
    {
     "data": {
      "text/plain": [
       "Text(0.5, 1.0, 'Grid: slope=4/d=3.995, d=1.001')"
      ]
     },
     "execution_count": 2,
     "metadata": {},
     "output_type": "execute_result"
    },
    {
     "data": {
      "image/png": "[encoded data removed]",
      "text/plain": [
       "<Figure size 432x288 with 1 Axes>"
      ]
     },
     "metadata": {
      "needs_background": "light"
     },
     "output_type": "display_data"
    }
   ],
   "source": [
    "plt.plot(n_grids, errors, marker=\"o\")\n",
    "plt.xscale('log')\n",
    "plt.yscale('log')\n",
    "plt.xlabel('grid',fontsize=15)\n",
    "plt.ylabel('MSE Error',fontsize=15)\n",
    "plt.title(\"Grid: slope=4/d=3.995, d=1.001\",fontsize=15)"
   ]
  },
  {
   "cell_type": "code",
   "execution_count": 3,
   "id": "f85d44af",
   "metadata": {},
   "outputs": [
    {
     "data": {
      "text/plain": [
       "-3.9872292016309125"
      ]
     },
     "execution_count": 3,
     "metadata": {},
     "output_type": "execute_result"
    }
   ],
   "source": [
    "start_id = 10\n",
    "end_id = -1\n",
    "(np.log(errors[end_id])-np.log(errors[start_id]))/(np.log(n_grids[end_id]-1)-np.log(n_grids[start_id]-1))"
   ]
  },
  {
   "cell_type": "code",
   "execution_count": null,
   "id": "418281be",
   "metadata": {},
   "outputs": [],
   "source": []
  }
 ],
 "metadata": {
  "kernelspec": {
   "display_name": "Python 3 (ipykernel)",
   "language": "python",
   "name": "python3"
  },
  "language_info": {
   "codemirror_mode": {
    "name": "ipython",
    "version": 3
   },
   "file_extension": ".py",
   "mimetype": "text/x-python",
   "name": "python",
   "nbconvert_exporter": "python",
   "pygments_lexer": "ipython3",
   "version": "3.9.7"
  }
 },
 "nbformat": 4,
 "nbformat_minor": 5
}
